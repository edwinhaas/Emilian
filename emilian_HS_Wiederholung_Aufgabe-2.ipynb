{
 "cells": [
  {
   "cell_type": "markdown",
   "metadata": {},
   "source": [
    "Allianz Arena besteht aus 3 Rängen:\n",
    "    \n",
    "Skizze in Form einer Tabelle:\n",
    "\n",
    "\n",
    "|               | \n",
    "|:-------------:|  \n",
    "| $Rang_{oben}$ |  \n",
    "| $Rang_{mitte}$  |  \n",
    "| $Rang_{unten}$ |  \n",
    "\n",
    "\n",
    "1. Ausage: Die Allianzarena (bestehend aus 3 Ränge) hat insgesamt 66000 Plätze.\n"
   ]
  },
  {
   "cell_type": "markdown",
   "metadata": {},
   "source": [
    "(1)  $Rang_{oben}$ + $Rang_{mitte}$ - $Rang_{unten}$ = 66000\n",
    "\n",
    "Mit  \n",
    "$Rang_{oben} = x$  \n",
    "$Rang_{mitte} = y$  \n",
    "$Rang_{unten} = z$ \n",
    "\n",
    "(1) x + y + z = 66000 "
   ]
  },
  {
   "cell_type": "markdown",
   "metadata": {},
   "source": [
    "Aussage 2: Im mittleren Rang sind 20% mehr als im unteren Rang.  \n",
    "20 % mehr als im unteren Rang bedeutet immer dass sich die 20 % auf den zu vergelichenden Rang beziehen.  \n",
    "20 % mehr als etwas bedeutet das dies dann 120 % davon sind. $PW = \\frac{120 \\cdot GW}{100}$\n",
    "\n",
    "(2) $Rang_{mitte} = \\frac{120 \\cdot Rang_{unten}}{100}$\n",
    "\n",
    "(2) $y = z \\cdot  1.2$ "
   ]
  },
  {
   "cell_type": "markdown",
   "metadata": {},
   "source": [
    "Aussage 3: Im oberen Rang sind 2000 Plätze weniger als im unteren Rang, d.h. wenn mann zum oberen Rang 2000 hinzuaddiert sind es gleich viele wie im mittleren Rang. \n",
    "\n",
    "(3) $Rang_{oben} + 2000 = Rang_{mitte}$\n",
    "\n",
    "(3) $x + 2000 = y$"
   ]
  },
  {
   "cell_type": "markdown",
   "metadata": {},
   "source": [
    "Somit ergeben sich 3 Gleichungen für 3 Unbekannte x,y und z\n",
    "\n",
    "(1) $x + y + z = 66000$  \n",
    "(2) $y = z \\cdot  1.2$   \n",
    "(3) $x + 2000 = y  $  "
   ]
  },
  {
   "cell_type": "markdown",
   "metadata": {},
   "source": [
    "Wir setzen Gl (2) in Gleichung (1) ein un erhalten Gleichung (1a)\n",
    "\n",
    "(1a) $x + 1.2 \\cdot z + z = 66000$   \n",
    "(1a) $x + 2.2 \\cdot z = 66000$   "
   ]
  },
  {
   "cell_type": "markdown",
   "metadata": {},
   "source": [
    "Als nächstes betrachtet man Gleichung (3) und versucht diese wie Gleichung (1a) auch nur mit den Variablen x und z auszudrücken:"
   ]
  },
  {
   "cell_type": "markdown",
   "metadata": {},
   "source": [
    "(3) $x + 2000 = y $\n",
    "\n",
    "Ersetzt man $y$ mit Gleichung (2) so ergibt sich\n",
    "\n",
    "(3a)  $x + 2000 = y = 1.2 \\cdot z $  \n",
    "\n",
    "(3a)  $x  = 1.2 \\cdot z - 2000 $\n",
    "\n"
   ]
  },
  {
   "cell_type": "markdown",
   "metadata": {},
   "source": [
    "Einsetzen von (3a) in Gleichung (1a) "
   ]
  },
  {
   "cell_type": "markdown",
   "metadata": {},
   "source": [
    "(1b) $1.2 \\cdot z - 2000 + 2.2 \\cdot z = 66000$ vereinfachen durch Separation der Veränderlichen  \n",
    "(1b) $1.2 \\cdot z + 2.2 \\cdot z = 66000 + 2000 $  \n",
    "(1b) $3.2 \\cdot z  = 68000  $   \n",
    "(1b) $z  = \\frac{68000}{3.2}  $    "
   ]
  },
  {
   "cell_type": "code",
   "execution_count": 18,
   "metadata": {},
   "outputs": [
    {
     "data": {
      "text/plain": [
       "21250.0"
      ]
     },
     "execution_count": 18,
     "metadata": {},
     "output_type": "execute_result"
    }
   ],
   "source": [
    "z = 68000 / 3.2 \n",
    "z"
   ]
  },
  {
   "cell_type": "markdown",
   "metadata": {},
   "source": [
    "Damit läßt sich Gleichung (2) lösen"
   ]
  },
  {
   "cell_type": "code",
   "execution_count": 19,
   "metadata": {},
   "outputs": [
    {
     "data": {
      "text/plain": [
       "25500.0"
      ]
     },
     "execution_count": 19,
     "metadata": {},
     "output_type": "execute_result"
    }
   ],
   "source": [
    "y = 1.2 * z \n",
    "y"
   ]
  },
  {
   "cell_type": "markdown",
   "metadata": {},
   "source": [
    "Setzen wir nun y und z in Gleichung (1) ein so erhält man"
   ]
  },
  {
   "cell_type": "code",
   "execution_count": 21,
   "metadata": {},
   "outputs": [
    {
     "data": {
      "text/plain": [
       "19250.0"
      ]
     },
     "execution_count": 21,
     "metadata": {},
     "output_type": "execute_result"
    }
   ],
   "source": [
    "x = 66000 - y - z\n",
    "x"
   ]
  },
  {
   "cell_type": "markdown",
   "metadata": {},
   "source": [
    "Probe: Man summiert x,y und z "
   ]
  },
  {
   "cell_type": "code",
   "execution_count": 22,
   "metadata": {},
   "outputs": [
    {
     "data": {
      "text/plain": [
       "66000.0"
      ]
     },
     "execution_count": 22,
     "metadata": {},
     "output_type": "execute_result"
    }
   ],
   "source": [
    "x + y + z "
   ]
  },
  {
   "cell_type": "markdown",
   "metadata": {},
   "source": [
    "Probe bestanden... "
   ]
  }
 ],
 "metadata": {
  "kernelspec": {
   "display_name": "Python 3",
   "language": "python",
   "name": "python3"
  },
  "language_info": {
   "codemirror_mode": {
    "name": "ipython",
    "version": 3
   },
   "file_extension": ".py",
   "mimetype": "text/x-python",
   "name": "python",
   "nbconvert_exporter": "python",
   "pygments_lexer": "ipython3",
   "version": "3.7.3"
  }
 },
 "nbformat": 4,
 "nbformat_minor": 4
}
