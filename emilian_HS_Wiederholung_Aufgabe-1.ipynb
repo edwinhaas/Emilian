{
 "cells": [
  {
   "cell_type": "markdown",
   "metadata": {},
   "source": [
    "Tina mixt \"KiBa\".  \n",
    "Bananennektar hat 25% Fruchtgehalt.  \n",
    "Sauerkirschnekar hat 50% Fruchtgehalt.  \n",
    "Sie nimmt 0.2 l Bananensaft und gießt 0.1 l Sauerkirschnektar hinzu. \n",
    "\n",
    "a) Wie viel Fruchtgehalt (in Prozent) hat Rinas KiBa Getränk? "
   ]
  },
  {
   "cell_type": "markdown",
   "metadata": {},
   "source": [
    "Prozentrechnung  \n",
    "$PS = \\frac{PW \\cdot 100}{GW}$ \n",
    "\n",
    "$ PW_{banana} = \\frac{PS_{banana } \\cdot GW_{banan}}{100} = \\frac{25 \\cdot 0.2 }{100}$ "
   ]
  },
  {
   "cell_type": "code",
   "execution_count": 14,
   "metadata": {},
   "outputs": [
    {
     "data": {
      "text/plain": [
       "0.05"
      ]
     },
     "execution_count": 14,
     "metadata": {},
     "output_type": "execute_result"
    }
   ],
   "source": [
    "pw = (25 * 0.2) / 100\n",
    "pw"
   ]
  },
  {
   "cell_type": "markdown",
   "metadata": {},
   "source": [
    "$ PW_{kirsch} = \\frac{PS_{kirsch} \\cdot GW_{kirsch}}{100} = \\frac{50 \\cdot 0.1 }{100}$ "
   ]
  },
  {
   "cell_type": "code",
   "execution_count": 6,
   "metadata": {},
   "outputs": [
    {
     "data": {
      "text/plain": [
       "0.05"
      ]
     },
     "execution_count": 6,
     "metadata": {},
     "output_type": "execute_result"
    }
   ],
   "source": [
    "PWkirsch = (50 * 0.1) / 100\n",
    "PWkirsch"
   ]
  },
  {
   "cell_type": "markdown",
   "metadata": {},
   "source": [
    "Somit sind 0.05 l Bananenfrucht und 0.05 l Sauerkirschfrucht im Getränk, also 0.05 l + 0.05 l = 0.1 l Gesamtfrucht. \n",
    "Die Mischung hat insgesamt 0.3 l Gesamtvolumen. \n",
    "\n",
    "Der Gesamtfruchtgehalt des Mischgetränks beträgt somit:\n",
    "\n",
    "$ PS_{Mischung} = \\frac{Gesamtmenge\\ Frucht}{Gesamtvolumen\\ Getraenk} = \\frac{ 0.1 }{0.3} = \\frac{1}{3}$  "
   ]
  },
  {
   "cell_type": "code",
   "execution_count": 7,
   "metadata": {},
   "outputs": [
    {
     "data": {
      "text/plain": [
       "0.33333333333333337"
      ]
     },
     "execution_count": 7,
     "metadata": {},
     "output_type": "execute_result"
    }
   ],
   "source": [
    "PS = 0.1 / 0.3 \n",
    "PS"
   ]
  },
  {
   "cell_type": "markdown",
   "metadata": {},
   "source": [
    "b) Wieviel Sauerkirschnektar benötigt Tina, wenn sie mit den 0.2 l Bananennektar ein Getränk mit 45 % Fruchtgehalt mischen will. \n",
    "\n",
    "Ausage: 45 % Fruchtgehalt\n",
    "\n",
    "==> $PS  = \\frac{Gesamtfruchtgehalt \\cdot 100}{Gesamtmenge}$ \n",
    "\n",
    "Gesucht: Menge an Sauerkirschsaft $S$ \n",
    "\n",
    "Also muss die obige Gleichung so formuliert werden, dass die Menge $S$ genutzt wird. \n",
    "\n",
    "$ Fruchtgehalt_{gesamt}=Fruchtgehalt_{banana} + Fruchtgehalt_{kirsch} $  \n",
    "\n",
    "Man kann den Fruchtgehalt des Sauerkischsaftes wie folgt schreiben:\n",
    "\n",
    "$Fruchtgehalt_{gesamt}= (50 * S) / 100$"
   ]
  },
  {
   "cell_type": "markdown",
   "metadata": {},
   "source": [
    "Bananensaft: 200ml gesamt, davon 50ml Fruchgehalt\n",
    "\n",
    "So läßt sich die Gleichung wie folgt schreiben\n",
    "\n",
    "$45 \\% = \\frac{50 ml + \\frac{50 * S}{100}}{ 200ml + S }  \n",
    "= \\frac{50 ml + \\frac{1}{2} * S }{ 200ml + S }$\n",
    "\n",
    "Gleichung nach S auflösen\n"
   ]
  },
  {
   "cell_type": "markdown",
   "metadata": {},
   "source": [
    "$\\frac{45}{100} \\cdot (200 + S) = 50 + \\frac{1}{2} \\cdot S $"
   ]
  },
  {
   "cell_type": "markdown",
   "metadata": {},
   "source": [
    "$\\frac{45 \\cdot 200}{100} + \\frac{45}{100} \\cdot S = 50 + \\frac{1}{2}S $"
   ]
  },
  {
   "cell_type": "markdown",
   "metadata": {},
   "source": [
    "Nächster Schritt: Separation der Veränderlichen, also alle Terme mit $S$ nach link und alle Zahlen nach rechts:\n",
    "\n",
    "$\\frac{45}{100}S -  \\frac{1}{2}S= 50 - 90 $"
   ]
  },
  {
   "cell_type": "markdown",
   "metadata": {},
   "source": [
    "$ \\frac{45}{100}S - \\frac{50}{100} S = -40 $ "
   ]
  },
  {
   "cell_type": "markdown",
   "metadata": {},
   "source": [
    "$ - \\frac{5}{100} S = - 40 $ "
   ]
  },
  {
   "cell_type": "markdown",
   "metadata": {},
   "source": [
    "$ S = \\frac{ -40 * 100 } { -5 }  = \\frac{ 4000 } { 5 } $ "
   ]
  },
  {
   "cell_type": "code",
   "execution_count": 15,
   "metadata": {},
   "outputs": [
    {
     "data": {
      "text/plain": [
       "800.0"
      ]
     },
     "execution_count": 15,
     "metadata": {},
     "output_type": "execute_result"
    }
   ],
   "source": [
    "S = ( -40 * 100 ) / (-5)\n",
    "S"
   ]
  },
  {
   "cell_type": "markdown",
   "metadata": {},
   "source": [
    "Probe: \n",
    "\n",
    "$PS = \\frac{50 + 0.5 \\cdot 800}{ 200 + 800} $ "
   ]
  },
  {
   "cell_type": "code",
   "execution_count": 18,
   "metadata": {},
   "outputs": [
    {
     "data": {
      "text/plain": [
       "45.0"
      ]
     },
     "execution_count": 18,
     "metadata": {},
     "output_type": "execute_result"
    }
   ],
   "source": [
    "PS = (50 + 0.5 * 800) * 100 / (200 + 800)\n",
    "PS"
   ]
  },
  {
   "cell_type": "markdown",
   "metadata": {},
   "source": [
    "Probe ist korrekt. "
   ]
  },
  {
   "cell_type": "code",
   "execution_count": null,
   "metadata": {},
   "outputs": [],
   "source": []
  }
 ],
 "metadata": {
  "kernelspec": {
   "display_name": "Python 3",
   "language": "python",
   "name": "python3"
  },
  "language_info": {
   "codemirror_mode": {
    "name": "ipython",
    "version": 3
   },
   "file_extension": ".py",
   "mimetype": "text/x-python",
   "name": "python",
   "nbconvert_exporter": "python",
   "pygments_lexer": "ipython3",
   "version": "3.7.3"
  }
 },
 "nbformat": 4,
 "nbformat_minor": 4
}
